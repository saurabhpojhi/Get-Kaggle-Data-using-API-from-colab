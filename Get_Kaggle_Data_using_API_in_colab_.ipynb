{
  "nbformat": 4,
  "nbformat_minor": 0,
  "metadata": {
    "colab": {
      "name": "Get Kaggle Data using API in colab .ipynb",
      "provenance": [],
      "collapsed_sections": []
    },
    "kernelspec": {
      "name": "python3",
      "display_name": "Python 3"
    },
    "language_info": {
      "name": "python"
    }
  },
  "cells": [
    {
      "cell_type": "code",
      "metadata": {
        "colab": {
          "base_uri": "https://localhost:8080/"
        },
        "id": "AC74J6Rf_D4b",
        "outputId": "b4dea9fc-eaae-47ba-caa6-f38f2c194d86"
      },
      "source": [
        "import os\n",
        "os.environ['KAGGLE_USERNAME'] = \"saurabhpojhi\" # username from the json file\n",
        "os.environ['KAGGLE_KEY'] = \"0dddf1a57cc1b6708e5c06b39b60affd\" # key from the json file\n",
        "!kaggle competitions download -c dogs-vs-cats # api copied from kaggle "
      ],
      "execution_count": 1,
      "outputs": [
        {
          "output_type": "stream",
          "name": "stdout",
          "text": [
            "Warning: Looks like you're using an outdated API Version, please consider updating (server 1.5.12 / client 1.5.4)\n",
            "Downloading sampleSubmission.csv to /content\n",
            "\r  0% 0.00/86.8k [00:00<?, ?B/s]\n",
            "100% 86.8k/86.8k [00:00<00:00, 50.4MB/s]\n",
            "Downloading train.zip to /content\n",
            " 98% 535M/543M [00:03<00:00, 141MB/s]\n",
            "100% 543M/543M [00:03<00:00, 148MB/s]\n",
            "Downloading test1.zip to /content\n",
            " 98% 265M/271M [00:01<00:00, 143MB/s]\n",
            "100% 271M/271M [00:01<00:00, 143MB/s]\n"
          ]
        }
      ]
    },
    {
      "cell_type": "code",
      "metadata": {
        "colab": {
          "base_uri": "https://localhost:8080/"
        },
        "id": "rD38o2pgAzyz",
        "outputId": "f90fd7cc-12da-4d00-c817-c8d59e7f14fc"
      },
      "source": [
        "# Upload data\n",
        "from zipfile import ZipFile\n",
        "\n",
        "file_name = \"/content/train.zip\"\n",
        "\n",
        "with ZipFile(file_name, 'r') as zip:\n",
        "  zip.extractall()\n",
        "  print('done')"
      ],
      "execution_count": 2,
      "outputs": [
        {
          "output_type": "stream",
          "name": "stdout",
          "text": [
            "done\n"
          ]
        }
      ]
    }
  ]
}